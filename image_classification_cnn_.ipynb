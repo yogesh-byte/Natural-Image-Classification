{
  "nbformat": 4,
  "nbformat_minor": 0,
  "metadata": {
    "colab": {
      "name": "Jai Arora cnn .ipynb",
      "provenance": [],
      "collapsed_sections": []
    },
    "kernelspec": {
      "name": "python3",
      "display_name": "Python 3"
    },
    "language_info": {
      "name": "python"
    }
  },
  "cells": [
    {
      "cell_type": "code",
      "metadata": {
        "id": "S3OzNHxapMk2"
      },
      "source": [
        "#jai arora"
      ],
      "execution_count": null,
      "outputs": []
    },
    {
      "cell_type": "code",
      "metadata": {
        "id": "SNovNF8CpO02"
      },
      "source": [
        "#b19ee094"
      ],
      "execution_count": null,
      "outputs": []
    },
    {
      "cell_type": "code",
      "metadata": {
        "id": "GNzA7LYvpRMF"
      },
      "source": [
        "# ann and cnn"
      ],
      "execution_count": null,
      "outputs": []
    },
    {
      "cell_type": "code",
      "metadata": {
        "id": "zSvEG8jvpU5e"
      },
      "source": [
        "#understanding relu"
      ],
      "execution_count": null,
      "outputs": []
    },
    {
      "cell_type": "code",
      "metadata": {
        "id": "dRqOzMjopTaV"
      },
      "source": [
        "\"\"\"ivation_fn == \"relu\"\n",
        "\n",
        "    if activation_fn == \"sigmoid\":\n",
        "        Z, linear_cache = linear_forward(A_prev, W, b)\n",
        "        A, activation_cache = sigmoid(Z)\n",
        "\n",
        "    elif activation_fn == \"tanh\":\n",
        "        Z, linear_cache = linear_fsns.lineplot(list(unique_c1),count_unique_c1)\n",
        "plt.xlabel(\"Elements in class\")\n",
        "plt.ylabel(\"Count\")\n",
        "plt.show()"
      ],
      "execution_count": null,
      "outputs": []
    },
    {
      "cell_type": "code",
      "metadata": {
        "id": "mUIrUsdnpXwS"
      },
      "source": [
        "\"\"\"def jaifp(jainetwork, jairow):\n",
        "\tinputs = row\n",
        "\tfor layer in jainetwork:\n",
        "\t\tnew_inputs = []\n",
        "\t\tfor neuron in layer:\n",
        "\t\t\tjaiactivation = jaiactivate(neuron['weights'], inputs)\n",
        "\t\t\tneuron['output'] = transfer(jaiactivation)\n",
        "\t\t\tnew_inputs.append(neuron['output'])\n",
        "\t\tinputs = new_inputs\n",
        "\treturn inputs"
      ],
      "execution_count": null,
      "outputs": []
    },
    {
      "cell_type": "code",
      "metadata": {
        "id": "4Lfe2xyZaJTc"
      },
      "source": [
        "import numpy as np\n",
        "import matplotlib.pyplot as plt\n",
        "import tensorflow as tf\n",
        "from tensorflow.keras import datasets, layers, models"
      ],
      "execution_count": null,
      "outputs": []
    },
    {
      "cell_type": "code",
      "metadata": {
        "id": "zypVG9DCaYGo",
        "colab": {
          "base_uri": "https://localhost:8080/"
        },
        "outputId": "8f48b576-fff3-4b49-ac70-901446757c1d"
      },
      "source": [
        "(jX_train, jY_train), (jX_test,jY_test) = datasets.cifar10.load_data()\n"
      ],
      "execution_count": null,
      "outputs": [
        {
          "output_type": "stream",
          "text": [
            "Downloading data from https://www.cs.toronto.edu/~kriz/cifar-10-python.tar.gz\n",
            "170500096/170498071 [==============================] - 2s 0us/step\n"
          ],
          "name": "stdout"
        }
      ]
    },
    {
      "cell_type": "code",
      "metadata": {
        "colab": {
          "base_uri": "https://localhost:8080/"
        },
        "id": "OLzmDrgRahcn",
        "outputId": "e6c88990-097b-464f-c1b7-9fbad83c54f4"
      },
      "source": [
        "jX_train.shape"
      ],
      "execution_count": null,
      "outputs": [
        {
          "output_type": "execute_result",
          "data": {
            "text/plain": [
              "(50000, 32, 32, 3)"
            ]
          },
          "metadata": {
            "tags": []
          },
          "execution_count": 3
        }
      ]
    },
    {
      "cell_type": "code",
      "metadata": {
        "colab": {
          "base_uri": "https://localhost:8080/"
        },
        "id": "kJuFz0J2aj9s",
        "outputId": "007a2e17-97cb-4954-ee4a-db2275bd1d68"
      },
      "source": [
        "jY_train.shape"
      ],
      "execution_count": null,
      "outputs": [
        {
          "output_type": "execute_result",
          "data": {
            "text/plain": [
              "(50000, 1)"
            ]
          },
          "metadata": {
            "tags": []
          },
          "execution_count": 4
        }
      ]
    },
    {
      "cell_type": "code",
      "metadata": {
        "colab": {
          "base_uri": "https://localhost:8080/"
        },
        "id": "IZQshHU5at3U",
        "outputId": "95f7059d-c4b5-4bf0-a6b2-007c2cf6a567"
      },
      "source": [
        "jY_train"
      ],
      "execution_count": null,
      "outputs": [
        {
          "output_type": "execute_result",
          "data": {
            "text/plain": [
              "array([[6],\n",
              "       [9],\n",
              "       [9],\n",
              "       ...,\n",
              "       [9],\n",
              "       [1],\n",
              "       [1]], dtype=uint8)"
            ]
          },
          "metadata": {
            "tags": []
          },
          "execution_count": 5
        }
      ]
    },
    {
      "cell_type": "code",
      "metadata": {
        "colab": {
          "base_uri": "https://localhost:8080/"
        },
        "id": "VB-kxELcaw8E",
        "outputId": "0684a006-7d87-4d95-ac55-0342f0a0d008"
      },
      "source": [
        "jX_train"
      ],
      "execution_count": null,
      "outputs": [
        {
          "output_type": "execute_result",
          "data": {
            "text/plain": [
              "array([[[[ 59,  62,  63],\n",
              "         [ 43,  46,  45],\n",
              "         [ 50,  48,  43],\n",
              "         ...,\n",
              "         [158, 132, 108],\n",
              "         [152, 125, 102],\n",
              "         [148, 124, 103]],\n",
              "\n",
              "        [[ 16,  20,  20],\n",
              "         [  0,   0,   0],\n",
              "         [ 18,   8,   0],\n",
              "         ...,\n",
              "         [123,  88,  55],\n",
              "         [119,  83,  50],\n",
              "         [122,  87,  57]],\n",
              "\n",
              "        [[ 25,  24,  21],\n",
              "         [ 16,   7,   0],\n",
              "         [ 49,  27,   8],\n",
              "         ...,\n",
              "         [118,  84,  50],\n",
              "         [120,  84,  50],\n",
              "         [109,  73,  42]],\n",
              "\n",
              "        ...,\n",
              "\n",
              "        [[208, 170,  96],\n",
              "         [201, 153,  34],\n",
              "         [198, 161,  26],\n",
              "         ...,\n",
              "         [160, 133,  70],\n",
              "         [ 56,  31,   7],\n",
              "         [ 53,  34,  20]],\n",
              "\n",
              "        [[180, 139,  96],\n",
              "         [173, 123,  42],\n",
              "         [186, 144,  30],\n",
              "         ...,\n",
              "         [184, 148,  94],\n",
              "         [ 97,  62,  34],\n",
              "         [ 83,  53,  34]],\n",
              "\n",
              "        [[177, 144, 116],\n",
              "         [168, 129,  94],\n",
              "         [179, 142,  87],\n",
              "         ...,\n",
              "         [216, 184, 140],\n",
              "         [151, 118,  84],\n",
              "         [123,  92,  72]]],\n",
              "\n",
              "\n",
              "       [[[154, 177, 187],\n",
              "         [126, 137, 136],\n",
              "         [105, 104,  95],\n",
              "         ...,\n",
              "         [ 91,  95,  71],\n",
              "         [ 87,  90,  71],\n",
              "         [ 79,  81,  70]],\n",
              "\n",
              "        [[140, 160, 169],\n",
              "         [145, 153, 154],\n",
              "         [125, 125, 118],\n",
              "         ...,\n",
              "         [ 96,  99,  78],\n",
              "         [ 77,  80,  62],\n",
              "         [ 71,  73,  61]],\n",
              "\n",
              "        [[140, 155, 164],\n",
              "         [139, 146, 149],\n",
              "         [115, 115, 112],\n",
              "         ...,\n",
              "         [ 79,  82,  64],\n",
              "         [ 68,  70,  55],\n",
              "         [ 67,  69,  55]],\n",
              "\n",
              "        ...,\n",
              "\n",
              "        [[175, 167, 166],\n",
              "         [156, 154, 160],\n",
              "         [154, 160, 170],\n",
              "         ...,\n",
              "         [ 42,  34,  36],\n",
              "         [ 61,  53,  57],\n",
              "         [ 93,  83,  91]],\n",
              "\n",
              "        [[165, 154, 128],\n",
              "         [156, 152, 130],\n",
              "         [159, 161, 142],\n",
              "         ...,\n",
              "         [103,  93,  96],\n",
              "         [123, 114, 120],\n",
              "         [131, 121, 131]],\n",
              "\n",
              "        [[163, 148, 120],\n",
              "         [158, 148, 122],\n",
              "         [163, 156, 133],\n",
              "         ...,\n",
              "         [143, 133, 139],\n",
              "         [143, 134, 142],\n",
              "         [143, 133, 144]]],\n",
              "\n",
              "\n",
              "       [[[255, 255, 255],\n",
              "         [253, 253, 253],\n",
              "         [253, 253, 253],\n",
              "         ...,\n",
              "         [253, 253, 253],\n",
              "         [253, 253, 253],\n",
              "         [253, 253, 253]],\n",
              "\n",
              "        [[255, 255, 255],\n",
              "         [255, 255, 255],\n",
              "         [255, 255, 255],\n",
              "         ...,\n",
              "         [255, 255, 255],\n",
              "         [255, 255, 255],\n",
              "         [255, 255, 255]],\n",
              "\n",
              "        [[255, 255, 255],\n",
              "         [254, 254, 254],\n",
              "         [254, 254, 254],\n",
              "         ...,\n",
              "         [254, 254, 254],\n",
              "         [254, 254, 254],\n",
              "         [254, 254, 254]],\n",
              "\n",
              "        ...,\n",
              "\n",
              "        [[113, 120, 112],\n",
              "         [111, 118, 111],\n",
              "         [105, 112, 106],\n",
              "         ...,\n",
              "         [ 72,  81,  80],\n",
              "         [ 72,  80,  79],\n",
              "         [ 72,  80,  79]],\n",
              "\n",
              "        [[111, 118, 110],\n",
              "         [104, 111, 104],\n",
              "         [ 99, 106,  98],\n",
              "         ...,\n",
              "         [ 68,  75,  73],\n",
              "         [ 70,  76,  75],\n",
              "         [ 78,  84,  82]],\n",
              "\n",
              "        [[106, 113, 105],\n",
              "         [ 99, 106,  98],\n",
              "         [ 95, 102,  94],\n",
              "         ...,\n",
              "         [ 78,  85,  83],\n",
              "         [ 79,  85,  83],\n",
              "         [ 80,  86,  84]]],\n",
              "\n",
              "\n",
              "       ...,\n",
              "\n",
              "\n",
              "       [[[ 35, 178, 235],\n",
              "         [ 40, 176, 239],\n",
              "         [ 42, 176, 241],\n",
              "         ...,\n",
              "         [ 99, 177, 219],\n",
              "         [ 79, 147, 197],\n",
              "         [ 89, 148, 189]],\n",
              "\n",
              "        [[ 57, 182, 234],\n",
              "         [ 44, 184, 250],\n",
              "         [ 50, 183, 240],\n",
              "         ...,\n",
              "         [156, 182, 200],\n",
              "         [141, 177, 206],\n",
              "         [116, 149, 175]],\n",
              "\n",
              "        [[ 98, 197, 237],\n",
              "         [ 64, 189, 252],\n",
              "         [ 69, 192, 245],\n",
              "         ...,\n",
              "         [188, 195, 206],\n",
              "         [119, 135, 147],\n",
              "         [ 61,  79,  90]],\n",
              "\n",
              "        ...,\n",
              "\n",
              "        [[ 73,  79,  77],\n",
              "         [ 53,  63,  68],\n",
              "         [ 54,  68,  80],\n",
              "         ...,\n",
              "         [ 17,  40,  64],\n",
              "         [ 21,  36,  51],\n",
              "         [ 33,  48,  49]],\n",
              "\n",
              "        [[ 61,  68,  75],\n",
              "         [ 55,  70,  86],\n",
              "         [ 57,  79, 103],\n",
              "         ...,\n",
              "         [ 24,  48,  72],\n",
              "         [ 17,  35,  53],\n",
              "         [  7,  23,  32]],\n",
              "\n",
              "        [[ 44,  56,  73],\n",
              "         [ 46,  66,  88],\n",
              "         [ 49,  77, 105],\n",
              "         ...,\n",
              "         [ 27,  52,  77],\n",
              "         [ 21,  43,  66],\n",
              "         [ 12,  31,  50]]],\n",
              "\n",
              "\n",
              "       [[[189, 211, 240],\n",
              "         [186, 208, 236],\n",
              "         [185, 207, 235],\n",
              "         ...,\n",
              "         [175, 195, 224],\n",
              "         [172, 194, 222],\n",
              "         [169, 194, 220]],\n",
              "\n",
              "        [[194, 210, 239],\n",
              "         [191, 207, 236],\n",
              "         [190, 206, 235],\n",
              "         ...,\n",
              "         [173, 192, 220],\n",
              "         [171, 191, 218],\n",
              "         [167, 190, 216]],\n",
              "\n",
              "        [[208, 219, 244],\n",
              "         [205, 216, 240],\n",
              "         [204, 215, 239],\n",
              "         ...,\n",
              "         [175, 191, 217],\n",
              "         [172, 190, 216],\n",
              "         [169, 191, 215]],\n",
              "\n",
              "        ...,\n",
              "\n",
              "        [[207, 199, 181],\n",
              "         [203, 195, 175],\n",
              "         [203, 196, 173],\n",
              "         ...,\n",
              "         [135, 132, 127],\n",
              "         [162, 158, 150],\n",
              "         [168, 163, 151]],\n",
              "\n",
              "        [[198, 190, 170],\n",
              "         [189, 181, 159],\n",
              "         [180, 172, 147],\n",
              "         ...,\n",
              "         [178, 171, 160],\n",
              "         [175, 169, 156],\n",
              "         [175, 169, 154]],\n",
              "\n",
              "        [[198, 189, 173],\n",
              "         [189, 181, 162],\n",
              "         [178, 170, 149],\n",
              "         ...,\n",
              "         [195, 184, 169],\n",
              "         [196, 189, 171],\n",
              "         [195, 190, 171]]],\n",
              "\n",
              "\n",
              "       [[[229, 229, 239],\n",
              "         [236, 237, 247],\n",
              "         [234, 236, 247],\n",
              "         ...,\n",
              "         [217, 219, 233],\n",
              "         [221, 223, 234],\n",
              "         [222, 223, 233]],\n",
              "\n",
              "        [[222, 221, 229],\n",
              "         [239, 239, 249],\n",
              "         [233, 234, 246],\n",
              "         ...,\n",
              "         [223, 223, 236],\n",
              "         [227, 228, 238],\n",
              "         [210, 211, 220]],\n",
              "\n",
              "        [[213, 206, 211],\n",
              "         [234, 232, 239],\n",
              "         [231, 233, 244],\n",
              "         ...,\n",
              "         [220, 220, 232],\n",
              "         [220, 219, 232],\n",
              "         [202, 203, 215]],\n",
              "\n",
              "        ...,\n",
              "\n",
              "        [[150, 143, 135],\n",
              "         [140, 135, 127],\n",
              "         [132, 127, 120],\n",
              "         ...,\n",
              "         [224, 222, 218],\n",
              "         [230, 228, 225],\n",
              "         [241, 241, 238]],\n",
              "\n",
              "        [[137, 132, 126],\n",
              "         [130, 127, 120],\n",
              "         [125, 121, 115],\n",
              "         ...,\n",
              "         [181, 180, 178],\n",
              "         [202, 201, 198],\n",
              "         [212, 211, 207]],\n",
              "\n",
              "        [[122, 119, 114],\n",
              "         [118, 116, 110],\n",
              "         [120, 116, 111],\n",
              "         ...,\n",
              "         [179, 177, 173],\n",
              "         [164, 164, 162],\n",
              "         [163, 163, 161]]]], dtype=uint8)"
            ]
          },
          "metadata": {
            "tags": []
          },
          "execution_count": 6
        }
      ]
    },
    {
      "cell_type": "code",
      "metadata": {
        "colab": {
          "base_uri": "https://localhost:8080/"
        },
        "id": "AXXC5uLXa3ak",
        "outputId": "0ce98c42-ba64-47c6-8721-a825b6224ee3"
      },
      "source": [
        "jX_test"
      ],
      "execution_count": null,
      "outputs": [
        {
          "output_type": "execute_result",
          "data": {
            "text/plain": [
              "array([[[[158, 112,  49],\n",
              "         [159, 111,  47],\n",
              "         [165, 116,  51],\n",
              "         ...,\n",
              "         [137,  95,  36],\n",
              "         [126,  91,  36],\n",
              "         [116,  85,  33]],\n",
              "\n",
              "        [[152, 112,  51],\n",
              "         [151, 110,  40],\n",
              "         [159, 114,  45],\n",
              "         ...,\n",
              "         [136,  95,  31],\n",
              "         [125,  91,  32],\n",
              "         [119,  88,  34]],\n",
              "\n",
              "        [[151, 110,  47],\n",
              "         [151, 109,  33],\n",
              "         [158, 111,  36],\n",
              "         ...,\n",
              "         [139,  98,  34],\n",
              "         [130,  95,  34],\n",
              "         [120,  89,  33]],\n",
              "\n",
              "        ...,\n",
              "\n",
              "        [[ 68, 124, 177],\n",
              "         [ 42, 100, 148],\n",
              "         [ 31,  88, 137],\n",
              "         ...,\n",
              "         [ 38,  97, 146],\n",
              "         [ 13,  64, 108],\n",
              "         [ 40,  85, 127]],\n",
              "\n",
              "        [[ 61, 116, 168],\n",
              "         [ 49, 102, 148],\n",
              "         [ 35,  85, 132],\n",
              "         ...,\n",
              "         [ 26,  82, 130],\n",
              "         [ 29,  82, 126],\n",
              "         [ 20,  64, 107]],\n",
              "\n",
              "        [[ 54, 107, 160],\n",
              "         [ 56, 105, 149],\n",
              "         [ 45,  89, 132],\n",
              "         ...,\n",
              "         [ 24,  77, 124],\n",
              "         [ 34,  84, 129],\n",
              "         [ 21,  67, 110]]],\n",
              "\n",
              "\n",
              "       [[[235, 235, 235],\n",
              "         [231, 231, 231],\n",
              "         [232, 232, 232],\n",
              "         ...,\n",
              "         [233, 233, 233],\n",
              "         [233, 233, 233],\n",
              "         [232, 232, 232]],\n",
              "\n",
              "        [[238, 238, 238],\n",
              "         [235, 235, 235],\n",
              "         [235, 235, 235],\n",
              "         ...,\n",
              "         [236, 236, 236],\n",
              "         [236, 236, 236],\n",
              "         [235, 235, 235]],\n",
              "\n",
              "        [[237, 237, 237],\n",
              "         [234, 234, 234],\n",
              "         [234, 234, 234],\n",
              "         ...,\n",
              "         [235, 235, 235],\n",
              "         [235, 235, 235],\n",
              "         [234, 234, 234]],\n",
              "\n",
              "        ...,\n",
              "\n",
              "        [[ 87,  99,  89],\n",
              "         [ 43,  51,  37],\n",
              "         [ 19,  23,  11],\n",
              "         ...,\n",
              "         [169, 184, 179],\n",
              "         [182, 197, 193],\n",
              "         [188, 202, 201]],\n",
              "\n",
              "        [[ 82,  96,  82],\n",
              "         [ 46,  57,  36],\n",
              "         [ 36,  44,  22],\n",
              "         ...,\n",
              "         [174, 189, 183],\n",
              "         [185, 200, 196],\n",
              "         [187, 202, 200]],\n",
              "\n",
              "        [[ 85, 101,  83],\n",
              "         [ 62,  75,  48],\n",
              "         [ 58,  67,  38],\n",
              "         ...,\n",
              "         [168, 183, 178],\n",
              "         [180, 195, 191],\n",
              "         [186, 200, 199]]],\n",
              "\n",
              "\n",
              "       [[[158, 190, 222],\n",
              "         [158, 187, 218],\n",
              "         [139, 166, 194],\n",
              "         ...,\n",
              "         [228, 231, 234],\n",
              "         [237, 239, 243],\n",
              "         [238, 241, 246]],\n",
              "\n",
              "        [[170, 200, 229],\n",
              "         [172, 199, 226],\n",
              "         [151, 176, 201],\n",
              "         ...,\n",
              "         [232, 232, 236],\n",
              "         [246, 246, 250],\n",
              "         [246, 247, 251]],\n",
              "\n",
              "        [[174, 201, 225],\n",
              "         [176, 200, 222],\n",
              "         [157, 179, 199],\n",
              "         ...,\n",
              "         [230, 229, 232],\n",
              "         [250, 249, 251],\n",
              "         [245, 244, 247]],\n",
              "\n",
              "        ...,\n",
              "\n",
              "        [[ 31,  40,  45],\n",
              "         [ 30,  39,  44],\n",
              "         [ 26,  35,  40],\n",
              "         ...,\n",
              "         [ 37,  40,  46],\n",
              "         [  9,  13,  14],\n",
              "         [  4,   7,   5]],\n",
              "\n",
              "        [[ 23,  34,  39],\n",
              "         [ 27,  38,  43],\n",
              "         [ 25,  36,  41],\n",
              "         ...,\n",
              "         [ 19,  20,  24],\n",
              "         [  4,   6,   3],\n",
              "         [  5,   7,   3]],\n",
              "\n",
              "        [[ 28,  41,  47],\n",
              "         [ 30,  43,  50],\n",
              "         [ 32,  45,  52],\n",
              "         ...,\n",
              "         [  5,   6,   8],\n",
              "         [  4,   5,   3],\n",
              "         [  7,   8,   7]]],\n",
              "\n",
              "\n",
              "       ...,\n",
              "\n",
              "\n",
              "       [[[ 20,  15,  12],\n",
              "         [ 19,  14,  11],\n",
              "         [ 15,  14,  11],\n",
              "         ...,\n",
              "         [ 10,   9,   7],\n",
              "         [ 12,  11,   9],\n",
              "         [ 13,  12,  10]],\n",
              "\n",
              "        [[ 21,  16,  13],\n",
              "         [ 20,  16,  13],\n",
              "         [ 18,  17,  12],\n",
              "         ...,\n",
              "         [ 10,   9,   7],\n",
              "         [ 10,   9,   7],\n",
              "         [ 12,  11,   9]],\n",
              "\n",
              "        [[ 21,  16,  13],\n",
              "         [ 21,  17,  12],\n",
              "         [ 20,  18,  11],\n",
              "         ...,\n",
              "         [ 12,  11,   9],\n",
              "         [ 12,  11,   9],\n",
              "         [ 13,  12,  10]],\n",
              "\n",
              "        ...,\n",
              "\n",
              "        [[ 33,  25,  13],\n",
              "         [ 34,  26,  15],\n",
              "         [ 34,  26,  15],\n",
              "         ...,\n",
              "         [ 28,  25,  52],\n",
              "         [ 29,  25,  58],\n",
              "         [ 23,  20,  42]],\n",
              "\n",
              "        [[ 33,  25,  14],\n",
              "         [ 34,  26,  15],\n",
              "         [ 34,  26,  15],\n",
              "         ...,\n",
              "         [ 27,  24,  52],\n",
              "         [ 27,  24,  56],\n",
              "         [ 25,  22,  47]],\n",
              "\n",
              "        [[ 31,  23,  12],\n",
              "         [ 32,  24,  13],\n",
              "         [ 33,  25,  14],\n",
              "         ...,\n",
              "         [ 24,  23,  50],\n",
              "         [ 26,  23,  53],\n",
              "         [ 25,  20,  47]]],\n",
              "\n",
              "\n",
              "       [[[ 25,  40,  12],\n",
              "         [ 15,  36,   3],\n",
              "         [ 23,  41,  18],\n",
              "         ...,\n",
              "         [ 61,  82,  78],\n",
              "         [ 92, 113, 112],\n",
              "         [ 75,  89,  92]],\n",
              "\n",
              "        [[ 12,  25,   6],\n",
              "         [ 20,  37,   7],\n",
              "         [ 24,  36,  15],\n",
              "         ...,\n",
              "         [115, 134, 138],\n",
              "         [149, 168, 177],\n",
              "         [104, 117, 131]],\n",
              "\n",
              "        [[ 12,  25,  11],\n",
              "         [ 15,  29,   6],\n",
              "         [ 34,  40,  24],\n",
              "         ...,\n",
              "         [154, 172, 182],\n",
              "         [157, 175, 192],\n",
              "         [116, 129, 151]],\n",
              "\n",
              "        ...,\n",
              "\n",
              "        [[100, 129,  81],\n",
              "         [103, 132,  84],\n",
              "         [104, 134,  86],\n",
              "         ...,\n",
              "         [ 97, 128,  84],\n",
              "         [ 98, 126,  84],\n",
              "         [ 91, 121,  79]],\n",
              "\n",
              "        [[103, 132,  83],\n",
              "         [104, 131,  83],\n",
              "         [107, 135,  87],\n",
              "         ...,\n",
              "         [101, 132,  87],\n",
              "         [ 99, 127,  84],\n",
              "         [ 92, 121,  79]],\n",
              "\n",
              "        [[ 95, 126,  78],\n",
              "         [ 95, 123,  76],\n",
              "         [101, 128,  81],\n",
              "         ...,\n",
              "         [ 93, 124,  80],\n",
              "         [ 95, 123,  81],\n",
              "         [ 92, 120,  80]]],\n",
              "\n",
              "\n",
              "       [[[ 73,  78,  75],\n",
              "         [ 98, 103, 113],\n",
              "         [ 99, 106, 114],\n",
              "         ...,\n",
              "         [135, 150, 152],\n",
              "         [135, 149, 154],\n",
              "         [203, 215, 223]],\n",
              "\n",
              "        [[ 69,  73,  70],\n",
              "         [ 84,  89,  97],\n",
              "         [ 68,  75,  81],\n",
              "         ...,\n",
              "         [ 85,  95,  89],\n",
              "         [ 71,  82,  80],\n",
              "         [120, 133, 135]],\n",
              "\n",
              "        [[ 69,  73,  70],\n",
              "         [ 90,  95, 100],\n",
              "         [ 62,  71,  74],\n",
              "         ...,\n",
              "         [ 74,  81,  70],\n",
              "         [ 53,  62,  54],\n",
              "         [ 62,  74,  69]],\n",
              "\n",
              "        ...,\n",
              "\n",
              "        [[123, 128,  96],\n",
              "         [132, 132, 102],\n",
              "         [129, 128, 100],\n",
              "         ...,\n",
              "         [108, 107,  88],\n",
              "         [ 62,  60,  55],\n",
              "         [ 27,  27,  28]],\n",
              "\n",
              "        [[115, 121,  91],\n",
              "         [123, 124,  95],\n",
              "         [129, 126,  99],\n",
              "         ...,\n",
              "         [115, 116,  94],\n",
              "         [ 66,  65,  59],\n",
              "         [ 27,  27,  27]],\n",
              "\n",
              "        [[116, 120,  90],\n",
              "         [121, 122,  94],\n",
              "         [129, 128, 101],\n",
              "         ...,\n",
              "         [116, 115,  94],\n",
              "         [ 68,  65,  58],\n",
              "         [ 27,  26,  26]]]], dtype=uint8)"
            ]
          },
          "metadata": {
            "tags": []
          },
          "execution_count": 7
        }
      ]
    },
    {
      "cell_type": "code",
      "metadata": {
        "colab": {
          "base_uri": "https://localhost:8080/"
        },
        "id": "g6mzKDJ9a6ab",
        "outputId": "04e0cdb6-e1a1-4747-e6b1-b8ff1fb51f05"
      },
      "source": [
        "jY_test"
      ],
      "execution_count": null,
      "outputs": [
        {
          "output_type": "execute_result",
          "data": {
            "text/plain": [
              "array([[3],\n",
              "       [8],\n",
              "       [8],\n",
              "       ...,\n",
              "       [5],\n",
              "       [1],\n",
              "       [7]], dtype=uint8)"
            ]
          },
          "metadata": {
            "tags": []
          },
          "execution_count": 8
        }
      ]
    },
    {
      "cell_type": "code",
      "metadata": {
        "colab": {
          "base_uri": "https://localhost:8080/"
        },
        "id": "0Bp_I1iEa8QE",
        "outputId": "ef0ab3e6-6d55-4945-b897-0b15d600c08d"
      },
      "source": [
        "jX_test.shape"
      ],
      "execution_count": null,
      "outputs": [
        {
          "output_type": "execute_result",
          "data": {
            "text/plain": [
              "(10000, 32, 32, 3)"
            ]
          },
          "metadata": {
            "tags": []
          },
          "execution_count": 9
        }
      ]
    },
    {
      "cell_type": "code",
      "metadata": {
        "colab": {
          "base_uri": "https://localhost:8080/"
        },
        "id": "w-IywIyoa_2k",
        "outputId": "2a928266-56aa-491b-d1bb-d697a4f8aa33"
      },
      "source": [
        "jY_test.shape"
      ],
      "execution_count": null,
      "outputs": [
        {
          "output_type": "execute_result",
          "data": {
            "text/plain": [
              "(10000, 1)"
            ]
          },
          "metadata": {
            "tags": []
          },
          "execution_count": 10
        }
      ]
    },
    {
      "cell_type": "code",
      "metadata": {
        "id": "jRIF2TchphfF"
      },
      "source": [
        "\"\"\"L = len(parameters) // 2        \n",
        "\n",
        "    for l in range(1, L):\n",
        "        A_prev = A\n",
        "        A, cache = linear_activation_forward(\n",
        "            A_prev, parameters[\"W\" + str(l)], parameters[\"b\" + str(l)],\n",
        "            activation_fn=hidden_layers_activation_fn)\n",
        "        caches.append(cache)\"\"\""
      ],
      "execution_count": null,
      "outputs": []
    },
    {
      "cell_type": "code",
      "metadata": {
        "id": "XnREEd3DbDCU"
      },
      "source": [
        "\n",
        "jY_train = jY_train.reshape(-1,)\n",
        "jY_test = jY_test.reshape(-1,)"
      ],
      "execution_count": null,
      "outputs": []
    },
    {
      "cell_type": "code",
      "metadata": {
        "id": "Y1JJijWtpjCe"
      },
      "source": [
        "\"\"\"L = len(parameters) // 2        \n",
        "\n",
        "    for l in range(1, L):\n",
        "        A_prev = A\n",
        "        A, cache = linear_activation_forward(\n",
        "            A_prev, parameters[\"W\" + str(l)], parameters[\"b\" + str(l)],\n",
        "            activation_fn=hidden_layers_activation_fn)\n",
        "        caches.append(cache)\"\"\""
      ],
      "execution_count": null,
      "outputs": []
    },
    {
      "cell_type": "code",
      "metadata": {
        "colab": {
          "base_uri": "https://localhost:8080/"
        },
        "id": "Rvqz4FhIbLQE",
        "outputId": "549d3b12-acad-4355-95de-46b341dcccbe"
      },
      "source": [
        "jY_train"
      ],
      "execution_count": null,
      "outputs": [
        {
          "output_type": "execute_result",
          "data": {
            "text/plain": [
              "array([6, 9, 9, ..., 9, 1, 1], dtype=uint8)"
            ]
          },
          "metadata": {
            "tags": []
          },
          "execution_count": 12
        }
      ]
    },
    {
      "cell_type": "code",
      "metadata": {
        "id": "qXo2Kru4bOQJ"
      },
      "source": [
        "jaiclasses = [\"airplane\",\"automobile\",\"bird\",\"cat\",\"deer\",\"dog\",\"frog\",\"horse\",\"ship\",\"truck\"]"
      ],
      "execution_count": null,
      "outputs": []
    },
    {
      "cell_type": "code",
      "metadata": {
        "id": "LvvvF05FbZME"
      },
      "source": [
        "def plot_sample(X, Y, index):\n",
        "    plt.figure(figsize = (20,5))\n",
        "    plt.imshow(X[index])\n",
        "    plt.xlabel(jaiclasses[Y[index]])"
      ],
      "execution_count": null,
      "outputs": []
    },
    {
      "cell_type": "code",
      "metadata": {
        "id": "w8b8pR8-pksd"
      },
      "source": [
        "plot_sample(jX_train, jY_train, 52)"
      ],
      "execution_count": null,
      "outputs": []
    },
    {
      "cell_type": "code",
      "metadata": {
        "id": "QWdkv027pmv-"
      },
      "source": [
        "plot_sample(jX_train, jY_train, 51)"
      ],
      "execution_count": null,
      "outputs": []
    },
    {
      "cell_type": "code",
      "metadata": {
        "id": "DGxcnEWPpnS4"
      },
      "source": [
        "plot_sample(jX_train, jY_train, 95)"
      ],
      "execution_count": null,
      "outputs": []
    },
    {
      "cell_type": "code",
      "metadata": {
        "id": "_FgiOcUZpn2N"
      },
      "source": [
        "plot_sample(jX_train, jY_train, 54)"
      ],
      "execution_count": null,
      "outputs": []
    },
    {
      "cell_type": "code",
      "metadata": {
        "id": "e5G36Y8ppojf"
      },
      "source": [
        "plot_sample(jX_train, jY_train, 50)"
      ],
      "execution_count": null,
      "outputs": []
    },
    {
      "cell_type": "code",
      "metadata": {
        "colab": {
          "base_uri": "https://localhost:8080/",
          "height": 334
        },
        "id": "RmKWiB6Rbuqd",
        "outputId": "45aae555-62d7-46c2-dace-2f2b955d3922"
      },
      "source": [
        "\n",
        "plot_sample(jX_train, jY_train, 5)"
      ],
      "execution_count": null,
      "outputs": [
        {
          "output_type": "display_data",
          "data": {
            "image/png": "[encoded data removed]",
            "text/plain": [
              "<Figure size 1440x360 with 1 Axes>"
            ]
          },
          "metadata": {
            "tags": [],
            "needs_background": "light"
          }
        }
      ]
    },
    {
      "cell_type": "code",
      "metadata": {
        "colab": {
          "base_uri": "https://localhost:8080/",
          "height": 50
        },
        "id": "XZ8KEgovb_M1",
        "outputId": "215db504-a62f-438f-9465-bc6c797fc07a"
      },
      "source": [
        "plt.figure(figsize = (2,1))"
      ],
      "execution_count": null,
      "outputs": [
        {
          "output_type": "execute_result",
          "data": {
            "text/plain": [
              "<Figure size 144x72 with 0 Axes>"
            ]
          },
          "metadata": {
            "tags": []
          },
          "execution_count": 16
        },
        {
          "output_type": "display_data",
          "data": {
            "text/plain": [
              "<Figure size 144x72 with 0 Axes>"
            ]
          },
          "metadata": {
            "tags": []
          }
        }
      ]
    },
    {
      "cell_type": "code",
      "metadata": {
        "colab": {
          "base_uri": "https://localhost:8080/",
          "height": 334
        },
        "id": "UOrjbD-8cPVM",
        "outputId": "a332e6f3-e428-4568-c077-66b71d74cf9d"
      },
      "source": [
        "plot_sample(jX_train, jY_train, 5)"
      ],
      "execution_count": null,
      "outputs": [
        {
          "output_type": "display_data",
          "data": {
            "image/png": "[encoded data removed]",
            "text/plain": [
              "<Figure size 1440x360 with 1 Axes>"
            ]
          },
          "metadata": {
            "tags": [],
            "needs_background": "light"
          }
        }
      ]
    },
    {
      "cell_type": "code",
      "metadata": {
        "id": "RaahG9JQcV5a"
      },
      "source": [
        "def plot_sample1(X, Y, index):\n",
        "    plt.figure(figsize = (4,2))\n",
        "    plt.imshow(X[index])\n",
        "    plt.xlabel(jaiclasses[Y[index]])"
      ],
      "execution_count": null,
      "outputs": []
    },
    {
      "cell_type": "code",
      "metadata": {
        "colab": {
          "base_uri": "https://localhost:8080/",
          "height": 173
        },
        "id": "wEucZCcEcZcQ",
        "outputId": "908dce1e-dd52-4385-dc85-af558a5fdbf0"
      },
      "source": [
        "plot_sample1(jX_train, jY_train, 5)"
      ],
      "execution_count": null,
      "outputs": [
        {
          "output_type": "display_data",
          "data": {
            "image/png": "[encoded data removed]",
            "text/plain": [
              "<Figure size 288x144 with 1 Axes>"
            ]
          },
          "metadata": {
            "tags": [],
            "needs_background": "light"
          }
        }
      ]
    },
    {
      "cell_type": "code",
      "metadata": {
        "id": "e_8uymSlcmAu"
      },
      "source": [
        "jX_train = jX_train / 255.0\n",
        "jX_test = jX_test / 255.0"
      ],
      "execution_count": null,
      "outputs": []
    },
    {
      "cell_type": "code",
      "metadata": {
        "id": "IUA_mrLve6w1",
        "colab": {
          "base_uri": "https://localhost:8080/"
        },
        "outputId": "ed16e8f1-3769-43c4-a416-8fe3874b3575"
      },
      "source": [
        "jann = models.Sequential([\n",
        "        layers.Flatten(input_shape=(32,32,3)),\n",
        "        layers.Dense(3000, activation='relu'),\n",
        "        layers.Dense(1000, activation='relu'),\n",
        "        layers.Dense(10, activation='sigmoid')    \n",
        "    ])\n",
        "jann.compile(optimizer='SGD',\n",
        "              loss='sparse_categorical_crossentropy',\n",
        "              metrics=['accuracy'])\n",
        "\n",
        "jann.fit(jX_train, jY_train, epochs=5)"
      ],
      "execution_count": null,
      "outputs": [
        {
          "output_type": "stream",
          "text": [
            "Epoch 1/5\n",
            "1563/1563 [==============================] - 110s 70ms/step - loss: 1.9303 - accuracy: 0.3017\n",
            "Epoch 2/5\n",
            "1563/1563 [==============================] - 111s 71ms/step - loss: 1.6407 - accuracy: 0.4200\n",
            "Epoch 3/5\n",
            "1563/1563 [==============================] - 110s 70ms/step - loss: 1.5477 - accuracy: 0.4511\n",
            "Epoch 4/5\n",
            "1563/1563 [==============================] - 113s 73ms/step - loss: 1.4823 - accuracy: 0.4782\n",
            "Epoch 5/5\n",
            "1563/1563 [==============================] - 111s 71ms/step - loss: 1.4310 - accuracy: 0.4968\n"
          ],
          "name": "stdout"
        },
        {
          "output_type": "execute_result",
          "data": {
            "text/plain": [
              "<tensorflow.python.keras.callbacks.History at 0x7f01c5dba690>"
            ]
          },
          "metadata": {
            "tags": []
          },
          "execution_count": 22
        }
      ]
    },
    {
      "cell_type": "code",
      "metadata": {
        "id": "JM0aMvpvfAee",
        "colab": {
          "base_uri": "https://localhost:8080/"
        },
        "outputId": "345a1109-5de6-4528-ee1d-5a5c3ffa295c"
      },
      "source": [
        "from sklearn.metrics import confusion_matrix , classification_report\n",
        "import numpy as np\n",
        "y_pred = ann.predict(jX_test)\n",
        "y_pred_classes = [np.argmax(element) for element in y_pred]\n",
        "\n",
        "print(\"Classification Report: \\n\", classification_report(jY_test, y_pred_classes))"
      ],
      "execution_count": null,
      "outputs": [
        {
          "output_type": "stream",
          "text": [
            "Classification Report: \n",
            "               precision    recall  f1-score   support\n",
            "\n",
            "           0       0.68      0.43      0.53      1000\n",
            "           1       0.50      0.73      0.59      1000\n",
            "           2       0.41      0.34      0.37      1000\n",
            "           3       0.45      0.08      0.13      1000\n",
            "           4       0.46      0.39      0.42      1000\n",
            "           5       0.30      0.62      0.41      1000\n",
            "           6       0.53      0.54      0.54      1000\n",
            "           7       0.60      0.50      0.54      1000\n",
            "           8       0.68      0.51      0.58      1000\n",
            "           9       0.44      0.62      0.52      1000\n",
            "\n",
            "    accuracy                           0.48     10000\n",
            "   macro avg       0.51      0.48      0.46     10000\n",
            "weighted avg       0.51      0.48      0.46     10000\n",
            "\n"
          ],
          "name": "stdout"
        }
      ]
    },
    {
      "cell_type": "code",
      "metadata": {
        "id": "NMrWNeYeqVaR"
      },
      "source": [
        "\"\"\"import matplotlib.pyplot as plt\n",
        "\n",
        "# Look at index 4 and 6, which demonstrate overlapping cases.\n",
        "x1 = [1, 3, 4, 5, 6, 7, 9]\n",
        "y1 = [4, 7, 2, 4, 7, 8, 3]\n",
        "\n",
        "x2 = [2, 4, 6, 8, 10]\n",
        "y2 = [5, 6, 2, 6, 2]\n",
        "\n",
        "# Colors: https://matplotlib.org/api/colors_api.html\n",
        "\n",
        "plt.bar(x1, y1, label=\"Blue Bar\", color='b')\n",
        "plt.bar(x2, y2, label=\"Green Bar\", color='g')\n",
        "plt.plot()\n",
        "\n",
        "plt.xlabel(\"bar number\")\n",
        "plt.ylabel(\"bar height\")\n",
        "plt.title(\"Bar Chart Example\")\n",
        "plt.legend()\n",
        "plt.show()"
      ],
      "execution_count": null,
      "outputs": []
    },
    {
      "cell_type": "code",
      "metadata": {
        "id": "jcsC2Bf6cvaI"
      },
      "source": [
        "cnn = models.Sequential([\n",
        "    layers.Conv2D(filters=32, kernel_size=(3, 3), activation='relu', input_shape=(32, 32, 3)),\n",
        "    layers.MaxPooling2D((2, 2)),\n",
        "    layers.Conv2D(filters=64, kernel_size=(3, 3), activation='relu'),\n",
        "    layers.MaxPooling2D((2, 2)),\n",
        "    layers.Flatten(),\n",
        "    layers.Dense(64, activation='relu'),\n",
        "    layers.Dense(10, activation='softmax')\n",
        "])"
      ],
      "execution_count": null,
      "outputs": []
    },
    {
      "cell_type": "code",
      "metadata": {
        "id": "84j2dK-aczps"
      },
      "source": [
        "cnn.compile(optimizer='adam',\n",
        "              loss='sparse_categorical_crossentropy',\n",
        "              metrics=['accuracy'])"
      ],
      "execution_count": null,
      "outputs": []
    },
    {
      "cell_type": "code",
      "metadata": {
        "colab": {
          "base_uri": "https://localhost:8080/"
        },
        "id": "anf0vdwIc5o8",
        "outputId": "f0a13957-a07a-4015-dc24-c18b1bca537c"
      },
      "source": [
        "cnn.fit(jX_train, jY_train, epochs=10)"
      ],
      "execution_count": null,
      "outputs": [
        {
          "output_type": "stream",
          "text": [
            "Epoch 1/10\n",
            "1563/1563 [==============================] - 64s 40ms/step - loss: 1.7142 - accuracy: 0.3748\n",
            "Epoch 2/10\n",
            "1563/1563 [==============================] - 62s 40ms/step - loss: 1.1530 - accuracy: 0.5969\n",
            "Epoch 3/10\n",
            "1563/1563 [==============================] - 62s 39ms/step - loss: 1.0127 - accuracy: 0.6487\n",
            "Epoch 4/10\n",
            "1563/1563 [==============================] - 61s 39ms/step - loss: 0.9038 - accuracy: 0.6852\n",
            "Epoch 5/10\n",
            "1563/1563 [==============================] - 60s 38ms/step - loss: 0.8432 - accuracy: 0.7075\n",
            "Epoch 6/10\n",
            "1563/1563 [==============================] - 62s 40ms/step - loss: 0.7844 - accuracy: 0.7261\n",
            "Epoch 7/10\n",
            "1563/1563 [==============================] - 61s 39ms/step - loss: 0.7293 - accuracy: 0.7471\n",
            "Epoch 8/10\n",
            "1563/1563 [==============================] - 60s 38ms/step - loss: 0.6902 - accuracy: 0.7611\n",
            "Epoch 9/10\n",
            "1563/1563 [==============================] - 60s 39ms/step - loss: 0.6449 - accuracy: 0.7738\n",
            "Epoch 10/10\n",
            "1563/1563 [==============================] - 60s 38ms/step - loss: 0.6116 - accuracy: 0.7889\n"
          ],
          "name": "stdout"
        },
        {
          "output_type": "execute_result",
          "data": {
            "text/plain": [
              "<tensorflow.python.keras.callbacks.History at 0x7f01b7b25610>"
            ]
          },
          "metadata": {
            "tags": []
          },
          "execution_count": 27
        }
      ]
    },
    {
      "cell_type": "code",
      "metadata": {
        "colab": {
          "base_uri": "https://localhost:8080/"
        },
        "id": "MQ0Zz4RbeSm7",
        "outputId": "9356be5a-2e25-4f60-daa6-dccbc6e739aa"
      },
      "source": [
        "\n",
        "cnn.evaluate(jX_test,jY_test)"
      ],
      "execution_count": null,
      "outputs": [
        {
          "output_type": "stream",
          "text": [
            "313/313 [==============================] - 4s 13ms/step - loss: 0.9022 - accuracy: 0.6993\n"
          ],
          "name": "stdout"
        },
        {
          "output_type": "execute_result",
          "data": {
            "text/plain": [
              "[0.9022412300109863, 0.6992999911308289]"
            ]
          },
          "metadata": {
            "tags": []
          },
          "execution_count": 28
        }
      ]
    },
    {
      "cell_type": "code",
      "metadata": {
        "id": "5C236WVdevSZ"
      },
      "source": [
        "\n",
        "y_pred = cnn.predict(jX_test)"
      ],
      "execution_count": null,
      "outputs": []
    },
    {
      "cell_type": "code",
      "metadata": {
        "id": "JZM8xrOhpyzO"
      },
      "source": [
        "import matplotlib.pyplot as plt\n",
        "\n",
        "# Look at index 4 and 6, which demonstrate overlapping cases.\n",
        "x1 = [1, 3, 4, 5, 6, 7, 9]\n",
        "y1 = [4, 7, 2, 4, 7, 8, 3]\n",
        "\n",
        "x2 = [2, 4, 6, 8, 10]\n",
        "y2 = [5, 6, 2, 6, 2]\n",
        "\n",
        "# Colors: https://matplotlib.org/api/colors_api.html\n",
        "\n",
        "plt.bar(x1, y1, label=\"Blue Bar\", color='b')\n",
        "plt.bar(x2, y2, label=\"Green Bar\", color='g')\n",
        "plt.plot()\n",
        "\n",
        "plt.xlabel(\"bar number\")\n",
        "plt.ylabel(\"bar height\")\n",
        "plt.title(\"Bar Chart Example\")\n",
        "plt.legend()\n",
        "plt.show()"
      ],
      "execution_count": null,
      "outputs": []
    },
    {
      "cell_type": "code",
      "metadata": {
        "colab": {
          "base_uri": "https://localhost:8080/"
        },
        "id": "OURw8eyReSjV",
        "outputId": "1c56c14f-6fc6-489e-fcf3-28e61c9f9244"
      },
      "source": [
        "y_classes = [np.argmax(element) for element in y_pred]\n",
        "y_classes[:5]"
      ],
      "execution_count": null,
      "outputs": [
        {
          "output_type": "execute_result",
          "data": {
            "text/plain": [
              "[3, 1, 8, 0, 6]"
            ]
          },
          "metadata": {
            "tags": []
          },
          "execution_count": 30
        }
      ]
    },
    {
      "cell_type": "code",
      "metadata": {
        "colab": {
          "base_uri": "https://localhost:8080/"
        },
        "id": "HTZgNPtCfG1U",
        "outputId": "4952a38b-4ee5-4d59-9370-1646fafdc5a6"
      },
      "source": [
        "jY_test[:5]"
      ],
      "execution_count": null,
      "outputs": [
        {
          "output_type": "execute_result",
          "data": {
            "text/plain": [
              "array([3, 8, 8, 0, 6], dtype=uint8)"
            ]
          },
          "metadata": {
            "tags": []
          },
          "execution_count": 31
        }
      ]
    }
  ]
}